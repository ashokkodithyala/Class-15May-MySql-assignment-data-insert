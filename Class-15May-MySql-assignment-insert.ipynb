{
 "cells": [
  {
   "cell_type": "markdown",
   "metadata": {},
   "source": [
    "### \"carbon_nanotubes\" data ingestion into MySQL \n",
    "\n"
   ]
  },
  {
   "cell_type": "code",
   "execution_count": null,
   "metadata": {},
   "outputs": [],
   "source": [
    "import csv\n",
    "import logging\n",
    "\n",
    "class datapopulation:\n",
    "\n",
    "    \n",
    "    def __init__(self):\n",
    "        pass\n",
    "        \n",
    "  \n",
    "    def datapopulation(self):\n",
    "        logging.basicConfig(filename=\"datapopulation.log\", format='%(asctime)s %(message)s', filemode='w')\n",
    "        logger=logging.getLogger()\n",
    "        logger.setLevel(logging.INFO)\n",
    "        logger.setLevel(logging.ERROR)\n",
    "        dp.createDB(dp.connectDB(logger),logger)\n",
    "        dp.createTable(dp.connectDB(logger),logger)\n",
    "        dp.insertData(dp.connectDB(logger),logger)\n",
    "    \n",
    "    \n",
    "    #Connecting to the DB\n",
    "    def connectDB(self,logger):\n",
    "        import mysql.connector as connection\n",
    "\n",
    "        try:\n",
    "            mydb = connection.connect(host=\"localhost\",user=\"root\", passwd=\"mysql\",use_pure=True)                        \n",
    "            #print(\"DB Connected - \" + str(mydb.is_connected()))\n",
    "            logger.info(\"DB Connected - \" + str(mydb.is_connected()))\n",
    "            return mydb\n",
    "\n",
    "        except Exception as e:\n",
    "            mydb.close()\n",
    "            logger.error(str(e))\n",
    "        \n",
    "        \n",
    "    # Creating the DB\n",
    "    def createDB(self,conn,logger):\n",
    "        try:    \n",
    "            if conn.is_connected():\n",
    "                query = \"Create database carbondb;\"\n",
    "                cursor = conn.cursor()\n",
    "                cursor.execute(query)\n",
    "                logger.info(\"Database Created!!\")\n",
    "                conn.close()\n",
    "        except Exception as e:\n",
    "            conn.close()\n",
    "            logger.error(str(e))\n",
    "            \n",
    "    #Creating the table\n",
    "    def createTable(self,conn,logger):\n",
    "        try:    \n",
    "            if conn.is_connected():\n",
    "                query = \"CREATE TABLE carbondb.carbon_nanotubes (Chiral_indice_n VARCHAR(60),Chiral_indice_m VARCHAR(60),\" \\\n",
    "                         \"Initial_atomic_coordinate_u VARCHAR(60), Initial_atomic_coordinate_v VARCHAR(60),Initial_atomic_coordinate_w VARCHAR(60),\" \\\n",
    "                         \"Calculated_atomic_coordinates_u varchar(60),Calculated_atomic_coordinates_v varchar(60),Calculated_atomic_coordinates_w varchar(60))\"\n",
    "\n",
    "                cursor = conn.cursor()\n",
    "                cursor.execute(query)\n",
    "                logger.info(\"Table Created!!\")\n",
    "                conn.close()\n",
    "        except Exception as e:\n",
    "            conn.close()\n",
    "            logger.error(str(e))\n",
    "    \n",
    "    \n",
    "    #Data Insertion\n",
    "    def insertData(self,conn,logger):\n",
    "        try:    \n",
    "            if conn.is_connected():\n",
    "                cursor = conn.cursor()\n",
    "                with open(\"carbon_nanotubes-15may-assignment.csv\", \"r\") as f:\n",
    "                    next(f)\n",
    "                    carbon_data_rows = csv.reader(f, delimiter=\"\\n\")    \n",
    "                    for row in enumerate(carbon_data_rows):\n",
    "                        #print(type(row[1]))\n",
    "                        for row_ in (row[1]):\n",
    "\n",
    "                           # print(row_.split(\",\")[6])  \n",
    "                            v0 =  row_.split(\",\")[0]     \n",
    "                            v1 =  row_.split(\",\")[1]     \n",
    "                            v2 =  row_.split(\",\")[2]     \n",
    "                            v3 =  row_.split(\",\")[3]     \n",
    "                            v4 =  row_.split(\",\")[4]     \n",
    "                            v5 =  row_.split(\",\")[5]     \n",
    "                            if len(row_.split(\",\"))>6:\n",
    "                                v6 =  row_.split(\",\")[6]\n",
    "\n",
    "\n",
    "                            #insertquery=\"INSERT INTO carbondb.carbon_nanotubes values ({v1},{v2},{v3},{v4},{v5},{v6},{v7})\".format(v1=(row_.split(\",\")[0]),v2=(row_.split(\",\")[1]),v3=(row_.split(\",\")[2]),v4=(row_.split(\",\")[3]),v5=(row_.split(\",\")[4]),v6=(row_.split(\",\")[5]),v7=(row_.split(\",\")[6]))\n",
    "                            insertquery=\"INSERT INTO carbondb.carbon_nanotubes(Chiral_indice_n,Chiral_indice_m, Initial_atomic_coordinate_u, Initial_atomic_coordinate_v, Initial_atomic_coordinate_w,Calculated_atomic_coordinates_u,Calculated_atomic_coordinates_v) values ('\" + v0 + \"','\" + v1 + \"','\" + v2 +  \"','\" + v3  + \"','\" + v4 +  \"','\" + v5 + \"','\" + v6 + \"')\"\n",
    "\n",
    "                            #logger.info(insertquery)\n",
    "                            cursor.execute(insertquery)\n",
    "                            logger.info(\"Values inserted!!\")\n",
    "                conn.commit()\n",
    "                cursor.close()\n",
    "                conn.close()\n",
    "        except Exception as e:\n",
    "            conn.close()\n",
    "            logger.error(str(e))\n"
   ]
  },
  {
   "cell_type": "markdown",
   "metadata": {},
   "source": [
    "#### Execute below class"
   ]
  },
  {
   "cell_type": "code",
   "execution_count": null,
   "metadata": {},
   "outputs": [],
   "source": [
    "dp = datapopulation()\n",
    "dp.datapopulation()"
   ]
  },
  {
   "cell_type": "code",
   "execution_count": null,
   "metadata": {},
   "outputs": [],
   "source": [
    " #mydb.close()"
   ]
  }
 ],
 "metadata": {
  "kernelspec": {
   "display_name": "Python 3",
   "language": "python",
   "name": "python3"
  },
  "language_info": {
   "codemirror_mode": {
    "name": "ipython",
    "version": 3
   },
   "file_extension": ".py",
   "mimetype": "text/x-python",
   "name": "python",
   "nbconvert_exporter": "python",
   "pygments_lexer": "ipython3",
   "version": "3.8.5"
  }
 },
 "nbformat": 4,
 "nbformat_minor": 4
}
